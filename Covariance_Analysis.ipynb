{
  "nbformat": 4,
  "nbformat_minor": 0,
  "metadata": {
    "colab": {
      "provenance": [],
      "toc_visible": true,
      "include_colab_link": true
    },
    "kernelspec": {
      "name": "python3",
      "display_name": "Python 3"
    },
    "language_info": {
      "name": "python"
    }
  },
  "cells": [
    {
      "cell_type": "markdown",
      "metadata": {
        "id": "view-in-github",
        "colab_type": "text"
      },
      "source": [
        "<a href=\"https://colab.research.google.com/github/BoomKanteng/Covariance-Analysis/blob/main/Covariance_Analysis.ipynb\" target=\"_parent\"><img src=\"https://colab.research.google.com/assets/colab-badge.svg\" alt=\"Open In Colab\"/></a>"
      ]
    },
    {
      "cell_type": "markdown",
      "source": [
        "## 🚀 (A) About This Note Book"
      ],
      "metadata": {
        "id": "Fr5gu4PfWofG"
      }
    },
    {
      "cell_type": "markdown",
      "source": [
        "- 🎯 The objective of this notebook is to create a tool for the satisfied group project in `MTH234 Linear Algebra`.\n",
        "- 🧑🏻‍💻 Python Implemtation by [CHOKUN](https://github.com/ChotanansubSoph) & [OnlyJust3rd](https://github.com/OnlyJust3rd)"
      ],
      "metadata": {
        "id": "SwkV12BlW3tc"
      }
    },
    {
      "cell_type": "markdown",
      "source": [
        "## ⚙️ (B) Setup and Dependencies"
      ],
      "metadata": {
        "id": "hSJ_s8NlW7g0"
      }
    },
    {
      "cell_type": "code",
      "source": [
        "import numpy as np\n",
        "import matplotlib.pyplot as plt"
      ],
      "metadata": {
        "id": "zFTzHtmFW1K0"
      },
      "execution_count": null,
      "outputs": []
    },
    {
      "cell_type": "code",
      "source": [
        "#๊ Sample Data >> Replace x, y with the actual dataset used in the project\n",
        "\n",
        "x = np.array([1, 2, 3, 4, 5])\n",
        "y = np.array([5, 4, 3, 2, 1])"
      ],
      "metadata": {
        "id": "vzWKyEz0bccz"
      },
      "execution_count": null,
      "outputs": []
    },
    {
      "cell_type": "markdown",
      "source": [
        "##  ☀️ (C) Implementation"
      ],
      "metadata": {
        "id": "Y-lRGFNPWt0s"
      }
    },
    {
      "cell_type": "markdown",
      "source": [
        "### 📝 1. Mean ($µ$) and variance ($𝜎$):\n",
        "\n",
        "The sample variance, $σ^2_{x}$, measures the spread of a dataset by computing the squared differences between each data point ($X_{i}$) and the mean ($µ$). Scaled by $(n-1)$, where $n$ is the number of observations, it provides insight into the variability of individual data points from the dataset's overall mean. The formula is expressed as:\n",
        "\n",
        "$ σ^2_{x} = \\frac{1}{n-1}\\sum_{i=1}^{n} (X_{i}-µ)^2 \\tag{Eq. 1} $\n",
        "\n",
        "---\n",
        "\n",
        "\n",
        "\n",
        "According to [\"Statistics-and-PCA, MIT\"](https://web.mit.edu/18.06/www/Spring17/Statistics-and-PCA.pdf), if we define vector $O$ = [1,1,...1] with $O^TO = n$ then we can define mean($µ$) following this expression:\n",
        "\n",
        "$$ µ = \\frac{O^Tx}{O^TO} \\tag{Eq. 2}$$\n",
        "\n",
        "---\n",
        "\n",
        "which is simply the projection of x onto o. And the sample variance is\n",
        "\n",
        "$$σ^2_{x} = \\frac{||x-µO||^2}{n-1} = \\frac{||(I-\\frac{OO^T}{O^TO})x||}{n-1} \\tag{Eq. 3}$$\n",
        "\n",
        "---\n",
        "\n",
        "Define $P$ is the projection operator from above that subtracts the mean from a vector (i.e. it\n",
        "projects vectors onto the subspace of vectors with zero mean). as show in this espression: $$P=I-\\frac{oo^T}{o^To} \\tag{Eq.4}$$\n",
        "\n",
        "---\n",
        "\n",
        "\n",
        "\n",
        "Covariance is calculated using the following mathematical expression:\n",
        "\n",
        "\n",
        "$$ \\sigma(x, y) = E[(x - E(x))(y - E(y)]\\  \\tag{Eq. 5-1}$$\n",
        "$$ \\sigma(x, y) = \\frac{(Px)^T(Py)}{n-1} = \\frac{x^TPy}{n-1} \\tag{Eq. 5-2}$$\n",
        "\n",
        "---\n",
        "\n",
        "\n",
        "\n",
        "\n"
      ],
      "metadata": {
        "id": "BGOwEiwSyFsO"
      }
    },
    {
      "cell_type": "code",
      "source": [
        "#Implementation (Eq.4)\n",
        "def cal_projection(data: np.array) -> np.array:\n",
        "  n = len(data)\n",
        "  return np.eye(n) - np.outer(np.ones(n), np.ones(n)) / n\n",
        "\n",
        "#Implementation (Eq.5-2)\n",
        "def cal_covariance(x : np.array, y: np.array) -> np.array:\n",
        "    n = len(x)\n",
        "    P = cal_projection(x)\n",
        "    cov = np.dot(np.dot(x, P), y) / (n - 1)\n",
        "    return cov"
      ],
      "metadata": {
        "id": "rNqt4TlJyijh"
      },
      "execution_count": null,
      "outputs": []
    },
    {
      "cell_type": "code",
      "source": [
        "print(f\"X data : {x}\")\n",
        "print(f\"Y data : {y}\")\n",
        "\n",
        "print(\"\\n=== Our Implementation Method ===\")\n",
        "print(\"Covariance(x,y) : \",cal_covariance(x,y))\n",
        "\n",
        "print(\"\\n=== Compare with Numpy ===\")\n",
        "print(\"(Realible Standard Library)\")\n",
        "print(\"\\nCovariance(x,y) : \", np.cov(x, y)[0,1])"
      ],
      "metadata": {
        "colab": {
          "base_uri": "https://localhost:8080/"
        },
        "id": "CZNM4wGQbsGm",
        "outputId": "3ebdd9ae-8ead-402a-a90f-3279c291c034"
      },
      "execution_count": null,
      "outputs": [
        {
          "output_type": "stream",
          "name": "stdout",
          "text": [
            "X data : [1 2 3 4 5]\n",
            "Y data : [5 4 3 2 1]\n",
            "\n",
            "=== Our Implementation Method ===\n",
            "Covariance(x,y) :  -2.5\n",
            "\n",
            "=== Compare with Numpy ===\n",
            "(Realible Standard Library)\n",
            "\n",
            "Covariance(x,y) :  -2.5\n"
          ]
        }
      ]
    },
    {
      "cell_type": "markdown",
      "source": [
        "### 📝 2. Covariance Matrix ($Σ$):\n",
        "The covariance matrix is denoted as Σ and expressed as:\n",
        "\n",
        "$$\n",
        "\\Sigma = \\begin{bmatrix}\n",
        "\\sigma(x, x) & \\sigma(x, y) \\\\\n",
        "\\sigma(y, x) & \\sigma(y, y)\n",
        "\\end{bmatrix}\n",
        "\\tag{Eq. 6}\n",
        "$$\n",
        "\n",
        "---\n",
        "The covariance matrix exhibits `symmetry` , meaning that the covariances are mirrored across the main diagonal. Mathematically, this is expressed as:\n",
        "\n",
        "$$σ(x, y) = σ(y, x) \\tag{Eq. 7} $$\n",
        "\n",
        "---\n"
      ],
      "metadata": {
        "id": "yH-37ajBybXH"
      }
    },
    {
      "cell_type": "code",
      "source": [
        "#Implementation (Eq.6)\n",
        "def cal_cov_matrix(x: np.array, y: np.array) -> np.array:\n",
        "  cov_matrix = [\n",
        "      [cal_covariance(x,x),cal_covariance(x,y)],\n",
        "      [cal_covariance(y,x),cal_covariance(y,y)]\n",
        "  ]\n",
        "  return np.array(cov_matrix)"
      ],
      "metadata": {
        "id": "AmJqrJX8xX5o"
      },
      "execution_count": null,
      "outputs": []
    },
    {
      "cell_type": "code",
      "source": [
        "print(\"=== Sample Data ===\")\n",
        "print(f\"X data : {x}\")\n",
        "print(f\"Y data : {y}\")\n",
        "\n",
        "print(\"\\n=== Our Implementation Method ===\")\n",
        "sample_cov_matrix = cal_cov_matrix(x,y)\n",
        "print(sample_cov_matrix)\n",
        "\n",
        "print(\"\\n=== Compare with Numpy ===\")\n",
        "print(\"(Realible Standard Library)\")\n",
        "print(\"\\n\",np.cov(np.column_stack((x, y)), rowvar=False))"
      ],
      "metadata": {
        "colab": {
          "base_uri": "https://localhost:8080/"
        },
        "id": "uDweaXEv1AfT",
        "outputId": "95dd3761-91db-4033-d42a-751aa5679c6e"
      },
      "execution_count": null,
      "outputs": [
        {
          "output_type": "stream",
          "name": "stdout",
          "text": [
            "=== Sample Data ===\n",
            "X data : [1 2 3 4 5]\n",
            "Y data : [5 4 3 2 1]\n",
            "\n",
            "=== Our Implementation Method ===\n",
            "[[ 2.5 -2.5]\n",
            " [-2.5  2.5]]\n",
            "\n",
            "=== Compare with Numpy ===\n",
            "(Realible Standard Library)\n",
            "\n",
            " [[ 2.5 -2.5]\n",
            " [-2.5  2.5]]\n"
          ]
        }
      ]
    },
    {
      "cell_type": "markdown",
      "source": [
        "### 📝 3. Eigenvalues ($λ$) and Eigenvector ($\\vec{V}$)\n"
      ],
      "metadata": {
        "id": "szqsnBgkiVrq"
      }
    },
    {
      "cell_type": "markdown",
      "source": [
        "Eigenvalues, denoted as $λ$, and eigenvectors, represented by $\\vec{V}$, are fundamental concepts in linear algebra. The relationship between a covariance matrix $\\Sigma$, an eigenvector $\\vec{V}$, and its corresponding eigenvalue $λ$\n",
        "\n",
        "is expressed by the equation:\n",
        "\n",
        "$\\Sigma\\vec{V} = λ\\vec{V} \\tag{Eq. 8} $\n",
        "\n",
        "---\n",
        "\n",
        "\n"
      ],
      "metadata": {
        "id": "gWwYZUKkibg3"
      }
    },
    {
      "cell_type": "markdown",
      "source": [
        "#### ✏️ 3.1 Calculate Eigenvalues ($λ$)"
      ],
      "metadata": {
        "id": "RwY0vp9WU9SV"
      }
    },
    {
      "cell_type": "markdown",
      "source": [
        "\n",
        "To determine the eigenvalues of a covariance matrix, we utilize the characteristic equation given by the expression:\n",
        "\n",
        "$$ \\text{det}(\\Sigma - \\lambda I) = 0 \\tag{Eq. 9} $$\n",
        "\n",
        "---\n",
        "\n",
        "The characteristic equation for a 2x2 matrix, as exemplified by\n",
        "\n",
        "$  \\text{det}\\left(\\begin{bmatrix} a-\\lambda & b \\\\ c & d-\\lambda \\end{bmatrix}\\right) = 0  \\tag{Eq. 10} $\n",
        "\n",
        "---\n",
        "\n",
        "Given the quadratic equation:\n",
        "\n",
        "\n",
        "$$ (a-λ)(d-λ)-bc = 0 $$\n",
        "$  \\lambda^2 - (a + d)\\lambda + (ad - bc) = 0  \\tag{Eq. 11}$\n",
        "\n",
        "---\n",
        "\n",
        "where $\\lambda$ is the eigenvalue, and $a$, $d$, $b$ and $c$ are coefficients of the 2x2 matrix, the solutions for $\\lambda$  are given by the quadratic formula:\n",
        "\n",
        "$$  \\lambda_1 = \\frac{{(a + d) + \\sqrt{(a + d)^2 - 4(ad-bc)}}}{2}  \\tag{Eq. 12-1} $$\n",
        "\n",
        "$$  \\lambda_2 = \\frac{{(a + d) - \\sqrt{(a + d)^2 - 4(ad-bc)}}}{2}  \\tag{Eq. 12-2} $$\n",
        "\n",
        "---"
      ],
      "metadata": {
        "id": "gAi1nSltVN1U"
      }
    },
    {
      "cell_type": "code",
      "source": [
        "def cal_eigenvalue(cov_matrix : np.array) -> np.array:\n",
        "    a, b = cov_matrix[0][0], cov_matrix[0][1]\n",
        "    c, d = cov_matrix[1][0], cov_matrix[1][1]\n",
        "\n",
        "    # Calculate the discriminant in quadratic equation (Eq.12-2)\n",
        "    delta = np.sqrt((a + d)**2 - 4 * (a * d - b * c))\n",
        "\n",
        "    # Calculate the two solutions for lambda (eigenvalues)\n",
        "    eigenvalue_1 = (a + d + delta) / 2 # (Eq.12-1)\n",
        "    eigenvalue_2 = (a + d - delta) / 2 # (Eq.12-1)\n",
        "\n",
        "    return np.array([eigenvalue_1, eigenvalue_2])\n",
        "\n",
        "sample_cov_matrix_2 = np.array([[4,1],[-2,1]])\n",
        "sample_eigenvalues = cal_eigenvalue(sample_cov_matrix_2)\n",
        "\n",
        "print(\"Covariance Matrix:\")\n",
        "print(sample_cov_matrix_2,\"\\n\")\n",
        "\n",
        "print(\"\\n=== Our Implementation Method ===\")\n",
        "print(\"Eigenvalue:\", sample_eigenvalues)\n",
        "\n",
        "print(\"\\n=== Compare with Numpy ===\")\n",
        "print(\"(Realible Standard Library)\")\n",
        "print(\"Eigenvalue:\",np.linalg.eig(sample_cov_matrix_2)[0])"
      ],
      "metadata": {
        "colab": {
          "base_uri": "https://localhost:8080/"
        },
        "id": "QeUU8cOkia1o",
        "outputId": "0328706e-c71d-4352-c4d4-8d91e05fceb3"
      },
      "execution_count": null,
      "outputs": [
        {
          "output_type": "stream",
          "name": "stdout",
          "text": [
            "Covariance Matrix:\n",
            "[[ 4  1]\n",
            " [-2  1]] \n",
            "\n",
            "\n",
            "=== Our Implementation Method ===\n",
            "Eigenvalue: [3. 2.]\n",
            "\n",
            "=== Compare with Numpy ===\n",
            "(Realible Standard Library)\n",
            "Eigenvalue: [3. 2.]\n"
          ]
        }
      ]
    },
    {
      "cell_type": "markdown",
      "source": [
        "#### ✏️ 3.2 Calculate Eigenvector ($\\vec{V}$)"
      ],
      "metadata": {
        "id": "eb2uv59gpRrz"
      }
    },
    {
      "cell_type": "markdown",
      "source": [
        "to find the corresponding Eigenvector $\\vec{V}$ substitute it back into the equation:\n",
        "\n",
        "$(Σ - \\lambda I) \\mathbf{v} = 0 \\tag{Eq.13}$\n",
        "\n",
        "\n",
        "\n",
        "---\n",
        "\n",
        "\n",
        "The eigenvector\n",
        "$vec{V}$ is then normalized using:\n",
        "\n",
        "$\\mathbf{\\vec{V}}^* = \\frac{\\mathbf{\\vec{V}}}{\\|\\mathbf{\\vec{V}}\\|} \\tag{Eq.14}$\n",
        "\n",
        "---\n"
      ],
      "metadata": {
        "id": "YMTEPm69OKdR"
      }
    },
    {
      "cell_type": "code",
      "source": [
        "def calculate_eigenvectors(cov_matrix : np.array, eigenvalues : np.array) -> np.array:\n",
        "    # Ensure that the input matrices are NumPy arrays\n",
        "    cov_matrix = np.array(cov_matrix)\n",
        "    eigenvalues = np.array(eigenvalues)\n",
        "\n",
        "    # Calculate eigenvectors\n",
        "    v1 = np.array([1, (eigenvalues[0] - cov_matrix[0, 0]) / cov_matrix[1, 0]], dtype=float)\n",
        "    v2 = np.array([1, (eigenvalues[1] - cov_matrix[0, 0]) / cov_matrix[1, 0]], dtype=float)\n",
        "\n",
        "    # Normalize the eigenvectors (Eq.14)\n",
        "    v1 /= np.linalg.norm(v1)\n",
        "    v2 /= np.linalg.norm(v2)\n",
        "\n",
        "    # Combine eigenvectors into a matrix\n",
        "    eigenvectors = np.column_stack((v1, v2))\n",
        "\n",
        "    return eigenvectors\n",
        "\n",
        "\n",
        "print(\"Covariance Matrix:\")\n",
        "print(sample_cov_matrix_2)\n",
        "\n",
        "# Example usage\n",
        "result = calculate_eigenvectors(sample_cov_matrix_2, sample_eigenvalues)\n",
        "print(\"\\n=== Our Implementation Method ===\")\n",
        "print(\"Eigenvectors:\")\n",
        "print(result)\n",
        "\n",
        "# Compare with np.linalg.eig\n",
        "_, eigenvectors_np = np.linalg.eig(sample_cov_matrix_2)\n",
        "print(\"\\n=== Compare with Numpy ===\")\n",
        "print(\"(Realible Standard Library)\")\n",
        "print(\"Eigenvectors:\")\n",
        "print(eigenvectors_np)"
      ],
      "metadata": {
        "colab": {
          "base_uri": "https://localhost:8080/"
        },
        "id": "qLtU_R31Fi41",
        "outputId": "3ab2a691-e3fc-4632-9de3-c537f9a7c016"
      },
      "execution_count": null,
      "outputs": [
        {
          "output_type": "stream",
          "name": "stdout",
          "text": [
            "Covariance Matrix:\n",
            "[[ 4  1]\n",
            " [-2  1]]\n",
            "\n",
            "=== Our Implementation Method ===\n",
            "Eigenvectors:\n",
            "[[0.89442719 0.70710678]\n",
            " [0.4472136  0.70710678]]\n",
            "\n",
            "=== Compare with Numpy ===\n",
            "(Realible Standard Library)\n",
            "Eigenvectors:\n",
            "[[ 0.70710678 -0.4472136 ]\n",
            " [-0.70710678  0.89442719]]\n"
          ]
        }
      ]
    },
    {
      "cell_type": "markdown",
      "source": [
        "# 📚 (D) Reference"
      ],
      "metadata": {
        "id": "B6_aGMCyao-Q"
      }
    },
    {
      "cell_type": "markdown",
      "source": [
        "-  Vincent Spruyt, ”A geometric interpretation of the covariance matrix”, https://www.visiondummy.com/2014/04/geometric-interpretation-covariance-matrix/ (Access on December 2023)\n",
        "- MIT (Massachusetts Institute of Technology). (2017, September 7). Statistics and PCA. Retrieved from https://web.mit.edu/18.06/www/Spring17/Statistics-and-PCA.pdf (Access on December 2023)"
      ],
      "metadata": {
        "id": "nDWZGgP9cOd8"
      }
    }
  ]
}